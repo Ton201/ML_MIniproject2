{
 "cells": [
  {
   "cell_type": "markdown",
   "id": "2be7b375-76a0-491d-bef5-df5ac835644a",
   "metadata": {},
   "source": [
    "# Miniproject 2\n",
    "Github repo for this project: https://github.com/Ton201/ML_MIniproject2"
   ]
  },
  {
   "cell_type": "code",
   "execution_count": 115,
   "id": "fd2f7c20-e4f8-4525-89b4-00e90fdb4a9b",
   "metadata": {},
   "outputs": [],
   "source": [
    "import pandas as pd\n",
    "import numpy as np\n",
    "from tqdm import tqdm\n",
    "from pprint import pprint\n",
    "import matplotlib.pyplot as plt\n",
    "%matplotlib inline \n",
    "\n",
    "from sklearn.model_selection import train_test_split\n",
    "from sklearn.feature_extraction.text import TfidfVectorizer\n",
    "\n",
    "# model selection \n",
    "from sklearn.linear_model import LogisticRegression\n",
    "from sklearn.naive_bayes import MultinomialNB\n",
    "\n",
    "# Evaluation\n",
    "from sklearn.metrics import accuracy_score\n"
   ]
  },
  {
   "cell_type": "markdown",
   "id": "6eb513aa-20ff-4db9-8057-1a01147f0c69",
   "metadata": {},
   "source": [
    "## Data processing\n",
    "To be able to clasifiy texts, I aim to use the bag of words representaion. This require to construct a corpus on trainning dataset. The first step is splitting the dataset into training/testing subset (ratio 50/50).\n",
    "\n",
    "### Splitting"
   ]
  },
  {
   "cell_type": "code",
   "execution_count": 3,
   "id": "77202de0-4304-42df-8337-53901866e82a",
   "metadata": {},
   "outputs": [],
   "source": [
    "data = pd.read_csv('../raw_data/IMDB_Dataset.csv')"
   ]
  },
  {
   "cell_type": "code",
   "execution_count": 4,
   "id": "0eb4587b-12ae-45e7-84a7-f6b67ba5b502",
   "metadata": {},
   "outputs": [
    {
     "data": {
      "text/html": [
       "<div>\n",
       "<style scoped>\n",
       "    .dataframe tbody tr th:only-of-type {\n",
       "        vertical-align: middle;\n",
       "    }\n",
       "\n",
       "    .dataframe tbody tr th {\n",
       "        vertical-align: top;\n",
       "    }\n",
       "\n",
       "    .dataframe thead th {\n",
       "        text-align: right;\n",
       "    }\n",
       "</style>\n",
       "<table border=\"1\" class=\"dataframe\">\n",
       "  <thead>\n",
       "    <tr style=\"text-align: right;\">\n",
       "      <th></th>\n",
       "      <th>review</th>\n",
       "      <th>sentiment</th>\n",
       "    </tr>\n",
       "  </thead>\n",
       "  <tbody>\n",
       "    <tr>\n",
       "      <th>0</th>\n",
       "      <td>One of the other reviewers has mentioned that ...</td>\n",
       "      <td>positive</td>\n",
       "    </tr>\n",
       "    <tr>\n",
       "      <th>1</th>\n",
       "      <td>A wonderful little production. &lt;br /&gt;&lt;br /&gt;The...</td>\n",
       "      <td>positive</td>\n",
       "    </tr>\n",
       "    <tr>\n",
       "      <th>2</th>\n",
       "      <td>I thought this was a wonderful way to spend ti...</td>\n",
       "      <td>positive</td>\n",
       "    </tr>\n",
       "    <tr>\n",
       "      <th>3</th>\n",
       "      <td>Basically there's a family where a little boy ...</td>\n",
       "      <td>negative</td>\n",
       "    </tr>\n",
       "    <tr>\n",
       "      <th>4</th>\n",
       "      <td>Petter Mattei's \"Love in the Time of Money\" is...</td>\n",
       "      <td>positive</td>\n",
       "    </tr>\n",
       "  </tbody>\n",
       "</table>\n",
       "</div>"
      ],
      "text/plain": [
       "                                              review sentiment\n",
       "0  One of the other reviewers has mentioned that ...  positive\n",
       "1  A wonderful little production. <br /><br />The...  positive\n",
       "2  I thought this was a wonderful way to spend ti...  positive\n",
       "3  Basically there's a family where a little boy ...  negative\n",
       "4  Petter Mattei's \"Love in the Time of Money\" is...  positive"
      ]
     },
     "metadata": {},
     "output_type": "display_data"
    },
    {
     "name": "stdout",
     "output_type": "stream",
     "text": [
      "(50000, 2)\n"
     ]
    }
   ],
   "source": [
    "display(data.head())\n",
    "print(data.shape)"
   ]
  },
  {
   "cell_type": "code",
   "execution_count": 25,
   "id": "55d82bf1-72d4-4685-bbc5-15051cb299ec",
   "metadata": {},
   "outputs": [],
   "source": [
    "rd_seed = 42\n",
    "\n",
    "Xtrain, Xtest, ytrain, ytest = train_test_split(data[\"review\"], data[\"sentiment\"], test_size=0.5, random_state=rd_seed)\n",
    "Xtrain, Xval, ytrain, yval = train_test_split(Xtrain, ytrain, test_size=0.15, random_state=rd_seed)"
   ]
  },
  {
   "cell_type": "code",
   "execution_count": 13,
   "id": "f0c07f29-19d6-438d-b579-9b3b4962f488",
   "metadata": {},
   "outputs": [
    {
     "data": {
      "text/html": [
       "<div>\n",
       "<style scoped>\n",
       "    .dataframe tbody tr th:only-of-type {\n",
       "        vertical-align: middle;\n",
       "    }\n",
       "\n",
       "    .dataframe tbody tr th {\n",
       "        vertical-align: top;\n",
       "    }\n",
       "\n",
       "    .dataframe thead th {\n",
       "        text-align: right;\n",
       "    }\n",
       "</style>\n",
       "<table border=\"1\" class=\"dataframe\">\n",
       "  <thead>\n",
       "    <tr style=\"text-align: right;\">\n",
       "      <th></th>\n",
       "      <th>review</th>\n",
       "      <th>sentiment</th>\n",
       "    </tr>\n",
       "  </thead>\n",
       "  <tbody>\n",
       "    <tr>\n",
       "      <th>33553</th>\n",
       "      <td>I really liked this Summerslam due to the look...</td>\n",
       "      <td>positive</td>\n",
       "    </tr>\n",
       "    <tr>\n",
       "      <th>9427</th>\n",
       "      <td>Not many television shows appeal to quite as m...</td>\n",
       "      <td>positive</td>\n",
       "    </tr>\n",
       "    <tr>\n",
       "      <th>199</th>\n",
       "      <td>The film quickly gets to a major chase scene w...</td>\n",
       "      <td>negative</td>\n",
       "    </tr>\n",
       "    <tr>\n",
       "      <th>12447</th>\n",
       "      <td>Jane Austen would definitely approve of this o...</td>\n",
       "      <td>positive</td>\n",
       "    </tr>\n",
       "    <tr>\n",
       "      <th>39489</th>\n",
       "      <td>Expectations were somewhat high for me when I ...</td>\n",
       "      <td>negative</td>\n",
       "    </tr>\n",
       "    <tr>\n",
       "      <th>...</th>\n",
       "      <td>...</td>\n",
       "      <td>...</td>\n",
       "    </tr>\n",
       "    <tr>\n",
       "      <th>7110</th>\n",
       "      <td>More directors like Nacho Vigalondo need a gre...</td>\n",
       "      <td>positive</td>\n",
       "    </tr>\n",
       "    <tr>\n",
       "      <th>46643</th>\n",
       "      <td>Rita Hayworth lights up the screen in this fun...</td>\n",
       "      <td>positive</td>\n",
       "    </tr>\n",
       "    <tr>\n",
       "      <th>5440</th>\n",
       "      <td>The biggest heroes, is one of the greatest mov...</td>\n",
       "      <td>positive</td>\n",
       "    </tr>\n",
       "    <tr>\n",
       "      <th>33017</th>\n",
       "      <td>I happened to see a promo for this movie on Sp...</td>\n",
       "      <td>negative</td>\n",
       "    </tr>\n",
       "    <tr>\n",
       "      <th>47138</th>\n",
       "      <td>Dumb is as dumb does, in this thoroughly unint...</td>\n",
       "      <td>negative</td>\n",
       "    </tr>\n",
       "  </tbody>\n",
       "</table>\n",
       "<p>25000 rows × 2 columns</p>\n",
       "</div>"
      ],
      "text/plain": [
       "                                                  review sentiment\n",
       "33553  I really liked this Summerslam due to the look...  positive\n",
       "9427   Not many television shows appeal to quite as m...  positive\n",
       "199    The film quickly gets to a major chase scene w...  negative\n",
       "12447  Jane Austen would definitely approve of this o...  positive\n",
       "39489  Expectations were somewhat high for me when I ...  negative\n",
       "...                                                  ...       ...\n",
       "7110   More directors like Nacho Vigalondo need a gre...  positive\n",
       "46643  Rita Hayworth lights up the screen in this fun...  positive\n",
       "5440   The biggest heroes, is one of the greatest mov...  positive\n",
       "33017  I happened to see a promo for this movie on Sp...  negative\n",
       "47138  Dumb is as dumb does, in this thoroughly unint...  negative\n",
       "\n",
       "[25000 rows x 2 columns]"
      ]
     },
     "execution_count": 13,
     "metadata": {},
     "output_type": "execute_result"
    }
   ],
   "source": [
    "data_test = pd.concat([Xtest, ytest], axis=1)\n",
    "data_test"
   ]
  },
  {
   "cell_type": "code",
   "execution_count": 14,
   "id": "0726d6fd-3eeb-4349-bb24-16b1e46210c6",
   "metadata": {},
   "outputs": [],
   "source": [
    "data_test.to_csv('../processed_data/test_set.csv')"
   ]
  },
  {
   "cell_type": "code",
   "execution_count": 15,
   "id": "73762f63-fa08-4d57-b596-2d6e95345151",
   "metadata": {},
   "outputs": [
    {
     "data": {
      "text/plain": [
       "(17500,)"
      ]
     },
     "execution_count": 15,
     "metadata": {},
     "output_type": "execute_result"
    }
   ],
   "source": [
    "Xtrain.shape"
   ]
  },
  {
   "cell_type": "markdown",
   "id": "ba66131c-68c4-4679-b793-4256cb2d99b2",
   "metadata": {},
   "source": [
    "## Bag of words representation"
   ]
  },
  {
   "cell_type": "code",
   "execution_count": 26,
   "id": "4b20f473-a7b2-4d02-a81c-41b417190fe7",
   "metadata": {},
   "outputs": [
    {
     "name": "stderr",
     "output_type": "stream",
     "text": [
      "100%|█████████████████████████████████████████████████████████████████████████████████████████████████████████████████████████████████████████████████| 21250/21250 [00:13<00:00, 1616.32it/s]\n",
      "100%|███████████████████████████████████████████████████████████████████████████████████████████████████████████████████████████████████████████████████| 3750/3750 [00:01<00:00, 2385.60it/s]\n"
     ]
    }
   ],
   "source": [
    "vectorizer = TfidfVectorizer()\n",
    "XtrainVector = vectorizer.fit_transform(tqdm(Xtrain))\n",
    "XvalVector = vectorizer.transform(tqdm(Xval))"
   ]
  },
  {
   "cell_type": "markdown",
   "id": "eb9f5da5-5df4-4693-b12c-c8b0960fe570",
   "metadata": {},
   "source": [
    "## Model selection"
   ]
  },
  {
   "cell_type": "markdown",
   "id": "86e75906-dbc2-4549-9c28-becb9c3e7839",
   "metadata": {},
   "source": [
    "### Naive Bayes\n",
    "The first model I am going to try will be Naive Bayes clasifier, since it is a simple model a this task is its model use case. It is necessary to use MultinomialNB althougth GaussianNB would make more sence. GausianNB is not optimized for sparse data and converting large sparse data to array consumes requires too much memory."
   ]
  },
  {
   "cell_type": "code",
   "execution_count": 36,
   "id": "99d3361a-02e0-41d1-92f7-e9a9ada8d9ad",
   "metadata": {},
   "outputs": [
    {
     "name": "stdout",
     "output_type": "stream",
     "text": [
      "Classes of y: ['negative' 'positive']\n",
      "Claases distribution: [10671. 10579.]\n",
      "Training acc: 0.9140\n",
      "Validatoin acc: 0.8509\n"
     ]
    }
   ],
   "source": [
    "nb_clf= MultinomialNB()\n",
    "nb_clf.fit(XtrainVector, ytrain)\n",
    "print('Classes of y:', nb_clf.classes_)\n",
    "print('Claases distribution:',nb_clf.class_count_) # training dataset seems to be balanced\n",
    "print(f\"Training acc: {nb_clf.score(XtrainVector, ytrain):.4f}\")\n",
    "print(f\"Validatoin acc: {nb_clf.score(XvalVector, yval):.4f}\")\n",
    "best_nb_acc = nb_clf.score(XvalVector, yval)"
   ]
  },
  {
   "cell_type": "markdown",
   "id": "f2147bc0-12b6-4b8a-9a24-71f783360069",
   "metadata": {},
   "source": [
    "### Logistic regression\n",
    "\n",
    "Second model I am going to try is logistic regression because it is quite powerful clasification model. It is a bit more complex than naive bayes clasifier and requires more tuning. In the first step I am going to try several regularisations to see which produces best performing model. "
   ]
  },
  {
   "cell_type": "code",
   "execution_count": 40,
   "id": "ad92ea57-34bf-44bc-99a5-fe09746e48cf",
   "metadata": {},
   "outputs": [
    {
     "name": "stdout",
     "output_type": "stream",
     "text": [
      "Trainning acc: 0.9316\n",
      "Validation acc: 0.8819\n"
     ]
    }
   ],
   "source": [
    "lr_clf = LogisticRegression(random_state=rd_seed)\n",
    "lr_clf.fit(XtrainVector,ytrain)\n",
    "print(f\"Trainning acc: {lr_clf.score(XtrainVector, ytrain):.4f}\")\n",
    "print(f\"Validation acc: {lr_clf.score(XvalVector, yval):.4f}\")"
   ]
  },
  {
   "cell_type": "code",
   "execution_count": 39,
   "id": "fae7c6cb-a0da-443d-90e5-e3b7b75e25fb",
   "metadata": {},
   "outputs": [
    {
     "name": "stdout",
     "output_type": "stream",
     "text": [
      "Trainning acc: 0.8939\n",
      "Validation acc: 0.8653\n"
     ]
    }
   ],
   "source": [
    "lr_clf = LogisticRegression(solver='saga',penalty='l1',random_state=rd_seed) # SAGA - stochstic gradient descent\n",
    "lr_clf.fit(XtrainVector,ytrain)\n",
    "print(f\"Trainning acc: {lr_clf.score(XtrainVector, ytrain):.4f}\")\n",
    "print(f\"Validation acc: {lr_clf.score(XvalVector, yval):.4f}\")"
   ]
  },
  {
   "cell_type": "code",
   "execution_count": 41,
   "id": "5a1083d7-da70-4539-8db0-6312d1f46c23",
   "metadata": {},
   "outputs": [
    {
     "name": "stdout",
     "output_type": "stream",
     "text": [
      "Trainning acc: 0.9142\n",
      "Validation acc: 0.8803\n"
     ]
    }
   ],
   "source": [
    "lr_clf = LogisticRegression(solver='saga', penalty='elasticnet',l1_ratio=0.2,random_state=rd_seed)\n",
    "lr_clf.fit(XtrainVector,ytrain)\n",
    "print(f\"Trainning acc: {lr_clf.score(XtrainVector, ytrain):.4f}\")\n",
    "print(f\"Validation acc: {lr_clf.score(XvalVector, yval):.4f}\")"
   ]
  },
  {
   "cell_type": "markdown",
   "id": "5a1ecc9c-12bd-4ad2-a68d-b4840c6c51cd",
   "metadata": {},
   "source": [
    "L1 metric does perform worse even the combination of L1 and L2 metric does not outperform L2 regularisation. In addition to that L2 regularised Logistic reqresion with default 'lbfgs' sover was by far the fastest learning model. Therefore only the default solver and regualristion (penalty) will be taken into consideration for further tuning.\n",
    "#### Regularisation weight tuning"
   ]
  },
  {
   "cell_type": "code",
   "execution_count": 105,
   "id": "f50a2745-07fd-4cae-ab56-fef0824b3afe",
   "metadata": {},
   "outputs": [],
   "source": [
    "def train_logistic_c(begin, end, zoom=10, mode='visual'):\n",
    "    Cs = np.linspace(begin, end, zoom)\n",
    "    ACC = {}\n",
    "    for i, c in enumerate(tqdm(Cs)):\n",
    "        clf = LogisticRegression(C=c,random_state=rd_seed)\n",
    "        clf.fit(XtrainVector, ytrain)\n",
    "        acc_train = clf.score(XtrainVector, ytrain)\n",
    "        acc_val = clf.score(XvalVector, yval)\n",
    "        ACC[c] = [acc_train, acc_val]\n",
    "    if mode =='visual':\n",
    "            # accs_train = [i[0] for i in ACC.values()]\n",
    "            accs_val = [i[1] for i in ACC.values()]\n",
    "            # plt.plot(Cs, accs_train, '.', label='train')\n",
    "            plt.plot(Cs, accs_val, '.', label='validation')\n",
    "            plt.title('Logistic regression validation accuracy as function of regularisation weight C')\n",
    "            plt.xlabel(\"C\")\n",
    "            plt.ylabel(\"ACC\")\n",
    "            # plt.legend(loc='center right')\n",
    "            plt.show()\n",
    "    elif mode == 'png':\n",
    "            plt.plot(Cs, ACC.values()[0], '.')\n",
    "            plt.title('Logistic regression validation accuracy as function of regularisation weight C')\n",
    "            plt.xlabel(\"C\")\n",
    "            plt.ylabel(\"ACC\")\n",
    "            plt.savefig('../images/lr_training.png')\n",
    "    return Cs, ACC"
   ]
  },
  {
   "cell_type": "code",
   "execution_count": 95,
   "id": "f8e806aa-5d3d-43a0-ac13-2b3f4a604c25",
   "metadata": {},
   "outputs": [
    {
     "name": "stderr",
     "output_type": "stream",
     "text": [
      "100%|█████████████████████████████████████████████████████████████████████████████████████████████████████████████████████████████████████████████████████████| 20/20 [00:21<00:00,  1.09s/it]\n"
     ]
    },
    {
     "data": {
      "image/png": "[encoded data removed]",
      "text/plain": [
       "<Figure size 640x480 with 1 Axes>"
      ]
     },
     "metadata": {},
     "output_type": "display_data"
    }
   ],
   "source": [
    "cs, acc = train_logistic_c(0.1,20,zoom=20)"
   ]
  },
  {
   "cell_type": "code",
   "execution_count": 107,
   "id": "c5a5efda-26c4-4d38-96a2-239f6cbd6f1e",
   "metadata": {},
   "outputs": [
    {
     "name": "stderr",
     "output_type": "stream",
     "text": [
      "100%|█████████████████████████████████████████████████████████████████████████████████████████████████████████████████████████████████████████████████████████| 20/20 [00:19<00:00,  1.04it/s]\n"
     ]
    },
    {
     "data": {
      "image/png": "[encoded data removed]",
      "text/plain": [
       "<Figure size 640x480 with 1 Axes>"
      ]
     },
     "metadata": {},
     "output_type": "display_data"
    }
   ],
   "source": [
    "cs, acc = train_logistic_c(1,10,zoom=20)"
   ]
  },
  {
   "cell_type": "code",
   "execution_count": 112,
   "id": "b1f39996-e797-4a9d-8e3a-b8525bf1c4d4",
   "metadata": {},
   "outputs": [
    {
     "data": {
      "text/plain": [
       "0.8917333333333334"
      ]
     },
     "execution_count": 112,
     "metadata": {},
     "output_type": "execute_result"
    }
   ],
   "source": [
    "val_accs = [i[1] for i in acc.values()]\n",
    "np.max(val_accs)"
   ]
  },
  {
   "cell_type": "code",
   "execution_count": 116,
   "id": "f01f07dc-80e0-4244-bd9d-6dae629e6248",
   "metadata": {},
   "outputs": [
    {
     "name": "stdout",
     "output_type": "stream",
     "text": [
      "{1.0: [0.9315764705882353, 0.8818666666666667],\n",
      " 1.4736842105263157: [0.9424, 0.8832],\n",
      " 1.9473684210526314: [0.9507294117647059, 0.8869333333333334],\n",
      " 2.4210526315789473: [0.9567529411764706, 0.888],\n",
      " 2.894736842105263: [0.9622117647058823, 0.8890666666666667],\n",
      " 3.3684210526315788: [0.9659294117647059, 0.8888],\n",
      " 3.8421052631578947: [0.9696470588235294, 0.8901333333333333],\n",
      " 4.315789473684211: [0.9721411764705883, 0.8917333333333334],\n",
      " 4.789473684210526: [0.9727058823529412, 0.8885333333333333],\n",
      " 5.263157894736842: [0.9760941176470588, 0.8901333333333333],\n",
      " 5.7368421052631575: [0.9782117647058823, 0.8912],\n",
      " 6.2105263157894735: [0.9790117647058824, 0.8901333333333333],\n",
      " 6.684210526315789: [0.9808, 0.8890666666666667],\n",
      " 7.157894736842105: [0.982964705882353, 0.8904],\n",
      " 7.63157894736842: [0.9816470588235294, 0.8896],\n",
      " 8.105263157894736: [0.9817882352941176, 0.8909333333333334],\n",
      " 8.578947368421051: [0.9847529411764706, 0.8906666666666667],\n",
      " 9.052631578947368: [0.9862588235294117, 0.8896],\n",
      " 9.526315789473683: [0.9860235294117647, 0.8898666666666667],\n",
      " 10.0: [0.987764705882353, 0.8906666666666667]}\n"
     ]
    }
   ],
   "source": [
    "pprint(acc)"
   ]
  },
  {
   "cell_type": "markdown",
   "id": "614ff9ef-f847-4023-9362-0fda067c1585",
   "metadata": {},
   "source": [
    "Best  value of hyperparameter **C is approximately 4.316**."
   ]
  },
  {
   "cell_type": "code",
   "execution_count": 118,
   "id": "a470bc19-e6f4-44f5-843b-b73b396616cf",
   "metadata": {},
   "outputs": [
    {
     "name": "stdout",
     "output_type": "stream",
     "text": [
      "Trainning acc: 0.9721\n",
      "Validation acc: 0.8917\n"
     ]
    }
   ],
   "source": [
    "lr_clf = LogisticRegression(C=4.316,random_state=rd_seed)\n",
    "lr_clf.fit(XtrainVector,ytrain)\n",
    "print(f\"Trainning acc: {lr_clf.score(XtrainVector, ytrain):.4f}\")\n",
    "print(f\"Validation acc: {lr_clf.score(XvalVector, yval):.4f}\")"
   ]
  },
  {
   "cell_type": "markdown",
   "id": "766be47b-3419-466c-a410-9b5d82ddaaae",
   "metadata": {},
   "source": [
    "### K-means clustering"
   ]
  }
 ],
 "metadata": {
  "kernelspec": {
   "display_name": "Python 3 (ipykernel)",
   "language": "python",
   "name": "python3"
  },
  "language_info": {
   "codemirror_mode": {
    "name": "ipython",
    "version": 3
   },
   "file_extension": ".py",
   "mimetype": "text/x-python",
   "name": "python",
   "nbconvert_exporter": "python",
   "pygments_lexer": "ipython3",
   "version": "3.12.4"
  }
 },
 "nbformat": 4,
 "nbformat_minor": 5
}
