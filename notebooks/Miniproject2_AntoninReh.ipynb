{
 "cells": [
  {
   "cell_type": "markdown",
   "id": "2be7b375-76a0-491d-bef5-df5ac835644a",
   "metadata": {},
   "source": [
    "# Miniproject 2\n",
    "Github repo for this project: "
   ]
  },
  {
   "cell_type": "code",
   "execution_count": 1,
   "id": "fd2f7c20-e4f8-4525-89b4-00e90fdb4a9b",
   "metadata": {},
   "outputs": [],
   "source": [
    "import pandas as pd\n",
    "from tqdm import tqdm\n",
    "import matplotlib.pyplot as plt\n",
    "%matplotlib inline \n",
    "\n",
    "from sklearn.model_selection import train_test_split\n",
    "from sklearn.feature_extraction.text import TfidfVectorizer\n",
    "\n",
    "# model selection \n",
    "from sklearn.linear_model import LogisticRegression\n",
    "\n",
    "from sklearn.naive_bayes import GaussianNB\n",
    "\n",
    "# Evaluation\n",
    "from sklearn.metrics import accuracy_score\n"
   ]
  },
  {
   "cell_type": "markdown",
   "id": "6eb513aa-20ff-4db9-8057-1a01147f0c69",
   "metadata": {},
   "source": [
    "## Data processing\n",
    "To be able to clasifiy texts, I aim to use the bag of words representaion. This require to construct a corpus on trainning dataset. The first step is splitting the dataset into training/testing subset (ratio 50/50).\n",
    "\n",
    "### Splitting"
   ]
  },
  {
   "cell_type": "code",
   "execution_count": 2,
   "id": "77202de0-4304-42df-8337-53901866e82a",
   "metadata": {},
   "outputs": [],
   "source": [
    "data = pd.read_csv('../data/IMDB_Dataset.csv')"
   ]
  },
  {
   "cell_type": "code",
   "execution_count": 3,
   "id": "0eb4587b-12ae-45e7-84a7-f6b67ba5b502",
   "metadata": {},
   "outputs": [
    {
     "data": {
      "text/html": [
       "<div>\n",
       "<style scoped>\n",
       "    .dataframe tbody tr th:only-of-type {\n",
       "        vertical-align: middle;\n",
       "    }\n",
       "\n",
       "    .dataframe tbody tr th {\n",
       "        vertical-align: top;\n",
       "    }\n",
       "\n",
       "    .dataframe thead th {\n",
       "        text-align: right;\n",
       "    }\n",
       "</style>\n",
       "<table border=\"1\" class=\"dataframe\">\n",
       "  <thead>\n",
       "    <tr style=\"text-align: right;\">\n",
       "      <th></th>\n",
       "      <th>review</th>\n",
       "      <th>sentiment</th>\n",
       "    </tr>\n",
       "  </thead>\n",
       "  <tbody>\n",
       "    <tr>\n",
       "      <th>0</th>\n",
       "      <td>One of the other reviewers has mentioned that ...</td>\n",
       "      <td>positive</td>\n",
       "    </tr>\n",
       "    <tr>\n",
       "      <th>1</th>\n",
       "      <td>A wonderful little production. &lt;br /&gt;&lt;br /&gt;The...</td>\n",
       "      <td>positive</td>\n",
       "    </tr>\n",
       "    <tr>\n",
       "      <th>2</th>\n",
       "      <td>I thought this was a wonderful way to spend ti...</td>\n",
       "      <td>positive</td>\n",
       "    </tr>\n",
       "    <tr>\n",
       "      <th>3</th>\n",
       "      <td>Basically there's a family where a little boy ...</td>\n",
       "      <td>negative</td>\n",
       "    </tr>\n",
       "    <tr>\n",
       "      <th>4</th>\n",
       "      <td>Petter Mattei's \"Love in the Time of Money\" is...</td>\n",
       "      <td>positive</td>\n",
       "    </tr>\n",
       "  </tbody>\n",
       "</table>\n",
       "</div>"
      ],
      "text/plain": [
       "                                              review sentiment\n",
       "0  One of the other reviewers has mentioned that ...  positive\n",
       "1  A wonderful little production. <br /><br />The...  positive\n",
       "2  I thought this was a wonderful way to spend ti...  positive\n",
       "3  Basically there's a family where a little boy ...  negative\n",
       "4  Petter Mattei's \"Love in the Time of Money\" is...  positive"
      ]
     },
     "metadata": {},
     "output_type": "display_data"
    },
    {
     "name": "stdout",
     "output_type": "stream",
     "text": [
      "(50000, 2)\n"
     ]
    }
   ],
   "source": [
    "display(data.head())\n",
    "print(data.shape)"
   ]
  },
  {
   "cell_type": "code",
   "execution_count": 4,
   "id": "55d82bf1-72d4-4685-bbc5-15051cb299ec",
   "metadata": {},
   "outputs": [],
   "source": [
    "X_train, X_test, y_train, y_test = train_test_split(data[\"review\"], data[\"sentiment\"], test_size=0.5, random_state=42)"
   ]
  },
  {
   "cell_type": "code",
   "execution_count": 5,
   "id": "e2d24e59-9034-4227-870e-5f09b4c83654",
   "metadata": {},
   "outputs": [
    {
     "data": {
      "text/plain": [
       "33553    I really liked this Summerslam due to the look...\n",
       "9427     Not many television shows appeal to quite as m...\n",
       "199      The film quickly gets to a major chase scene w...\n",
       "12447    Jane Austen would definitely approve of this o...\n",
       "39489    Expectations were somewhat high for me when I ...\n",
       "                               ...                        \n",
       "7110     More directors like Nacho Vigalondo need a gre...\n",
       "46643    Rita Hayworth lights up the screen in this fun...\n",
       "5440     The biggest heroes, is one of the greatest mov...\n",
       "33017    I happened to see a promo for this movie on Sp...\n",
       "47138    Dumb is as dumb does, in this thoroughly unint...\n",
       "Name: review, Length: 25000, dtype: object"
      ]
     },
     "execution_count": 5,
     "metadata": {},
     "output_type": "execute_result"
    }
   ],
   "source": [
    "X_test"
   ]
  },
  {
   "cell_type": "code",
   "execution_count": 6,
   "id": "f0c07f29-19d6-438d-b579-9b3b4962f488",
   "metadata": {},
   "outputs": [
    {
     "data": {
      "text/html": [
       "<div>\n",
       "<style scoped>\n",
       "    .dataframe tbody tr th:only-of-type {\n",
       "        vertical-align: middle;\n",
       "    }\n",
       "\n",
       "    .dataframe tbody tr th {\n",
       "        vertical-align: top;\n",
       "    }\n",
       "\n",
       "    .dataframe thead th {\n",
       "        text-align: right;\n",
       "    }\n",
       "</style>\n",
       "<table border=\"1\" class=\"dataframe\">\n",
       "  <thead>\n",
       "    <tr style=\"text-align: right;\">\n",
       "      <th></th>\n",
       "      <th>review</th>\n",
       "      <th>sentiment</th>\n",
       "    </tr>\n",
       "  </thead>\n",
       "  <tbody>\n",
       "    <tr>\n",
       "      <th>33553</th>\n",
       "      <td>I really liked this Summerslam due to the look...</td>\n",
       "      <td>positive</td>\n",
       "    </tr>\n",
       "    <tr>\n",
       "      <th>9427</th>\n",
       "      <td>Not many television shows appeal to quite as m...</td>\n",
       "      <td>positive</td>\n",
       "    </tr>\n",
       "    <tr>\n",
       "      <th>199</th>\n",
       "      <td>The film quickly gets to a major chase scene w...</td>\n",
       "      <td>negative</td>\n",
       "    </tr>\n",
       "    <tr>\n",
       "      <th>12447</th>\n",
       "      <td>Jane Austen would definitely approve of this o...</td>\n",
       "      <td>positive</td>\n",
       "    </tr>\n",
       "    <tr>\n",
       "      <th>39489</th>\n",
       "      <td>Expectations were somewhat high for me when I ...</td>\n",
       "      <td>negative</td>\n",
       "    </tr>\n",
       "    <tr>\n",
       "      <th>...</th>\n",
       "      <td>...</td>\n",
       "      <td>...</td>\n",
       "    </tr>\n",
       "    <tr>\n",
       "      <th>7110</th>\n",
       "      <td>More directors like Nacho Vigalondo need a gre...</td>\n",
       "      <td>positive</td>\n",
       "    </tr>\n",
       "    <tr>\n",
       "      <th>46643</th>\n",
       "      <td>Rita Hayworth lights up the screen in this fun...</td>\n",
       "      <td>positive</td>\n",
       "    </tr>\n",
       "    <tr>\n",
       "      <th>5440</th>\n",
       "      <td>The biggest heroes, is one of the greatest mov...</td>\n",
       "      <td>positive</td>\n",
       "    </tr>\n",
       "    <tr>\n",
       "      <th>33017</th>\n",
       "      <td>I happened to see a promo for this movie on Sp...</td>\n",
       "      <td>negative</td>\n",
       "    </tr>\n",
       "    <tr>\n",
       "      <th>47138</th>\n",
       "      <td>Dumb is as dumb does, in this thoroughly unint...</td>\n",
       "      <td>negative</td>\n",
       "    </tr>\n",
       "  </tbody>\n",
       "</table>\n",
       "<p>25000 rows × 2 columns</p>\n",
       "</div>"
      ],
      "text/plain": [
       "                                                  review sentiment\n",
       "33553  I really liked this Summerslam due to the look...  positive\n",
       "9427   Not many television shows appeal to quite as m...  positive\n",
       "199    The film quickly gets to a major chase scene w...  negative\n",
       "12447  Jane Austen would definitely approve of this o...  positive\n",
       "39489  Expectations were somewhat high for me when I ...  negative\n",
       "...                                                  ...       ...\n",
       "7110   More directors like Nacho Vigalondo need a gre...  positive\n",
       "46643  Rita Hayworth lights up the screen in this fun...  positive\n",
       "5440   The biggest heroes, is one of the greatest mov...  positive\n",
       "33017  I happened to see a promo for this movie on Sp...  negative\n",
       "47138  Dumb is as dumb does, in this thoroughly unint...  negative\n",
       "\n",
       "[25000 rows x 2 columns]"
      ]
     },
     "execution_count": 6,
     "metadata": {},
     "output_type": "execute_result"
    }
   ],
   "source": [
    "data_test = pd.concat([X_test, y_test], axis=1)\n",
    "data_test"
   ]
  },
  {
   "cell_type": "code",
   "execution_count": 7,
   "id": "0726d6fd-3eeb-4349-bb24-16b1e46210c6",
   "metadata": {},
   "outputs": [],
   "source": [
    "data_test.to_csv('../processed_data/test_set.csv')"
   ]
  },
  {
   "cell_type": "code",
   "execution_count": 8,
   "id": "73762f63-fa08-4d57-b596-2d6e95345151",
   "metadata": {},
   "outputs": [
    {
     "data": {
      "text/plain": [
       "(25000,)"
      ]
     },
     "execution_count": 8,
     "metadata": {},
     "output_type": "execute_result"
    }
   ],
   "source": [
    "X_train.shape"
   ]
  },
  {
   "cell_type": "markdown",
   "id": "ba66131c-68c4-4679-b793-4256cb2d99b2",
   "metadata": {},
   "source": [
    "## Bag of words representation"
   ]
  },
  {
   "cell_type": "code",
   "execution_count": 9,
   "id": "4b20f473-a7b2-4d02-a81c-41b417190fe7",
   "metadata": {},
   "outputs": [
    {
     "name": "stderr",
     "output_type": "stream",
     "text": [
      "100%|███████████████████████████████████| 25000/25000 [00:02<00:00, 8753.10it/s]\n"
     ]
    }
   ],
   "source": [
    "transformer = TfidfVectorizer()\n",
    "X_trainVector = transformer.fit_transform(tqdm(X_train))"
   ]
  },
  {
   "cell_type": "markdown",
   "id": "eb9f5da5-5df4-4693-b12c-c8b0960fe570",
   "metadata": {},
   "source": [
    "## Model selection"
   ]
  },
  {
   "cell_type": "markdown",
   "id": "f2147bc0-12b6-4b8a-9a24-71f783360069",
   "metadata": {},
   "source": [
    "### Ridge"
   ]
  },
  {
   "cell_type": "code",
   "execution_count": 12,
   "id": "ad92ea57-34bf-44bc-99a5-fe09746e48cf",
   "metadata": {},
   "outputs": [
    {
     "name": "stdout",
     "output_type": "stream",
     "text": [
      "Trainning acc: 0.9366666666666666\n",
      "Vlidation acc: 0.8779\n"
     ]
    }
   ],
   "source": [
    "X_trainNB, X_valNB, y_trainNB, y_valNB = train_test_split(X_trainVector, y_train, test_size=0.4, random_state=42)\n",
    "\n",
    "lr_clf = LogisticRegression(random_state=42)\n",
    "lr_clf.fit(X_trainNB,y_trainNB)\n",
    "print(f\"Trainning acc: {lr_clf.score(X_trainNB,y_trainNB)}\")\n",
    "print(f\"Validation acc: {lr_clf.score(X_valNB,y_valNB)}\")\n"
   ]
  }
 ],
 "metadata": {
  "kernelspec": {
   "display_name": "Python 3 (ipykernel)",
   "language": "python",
   "name": "python3"
  },
  "language_info": {
   "codemirror_mode": {
    "name": "ipython",
    "version": 3
   },
   "file_extension": ".py",
   "mimetype": "text/x-python",
   "name": "python",
   "nbconvert_exporter": "python",
   "pygments_lexer": "ipython3",
   "version": "3.12.4"
  }
 },
 "nbformat": 4,
 "nbformat_minor": 5
}
